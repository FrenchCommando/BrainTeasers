{
 "cells": [
  {
   "cell_type": "markdown",
   "metadata": {},
   "source": [
    "- Your boss asked you to babysit her children. She tells you there are two of them.\n",
    "- On the day in question, you show up at the door. A little girl opens the door. You understand she is one of your boss's children.\n",
    "- What are the chances that the other child is a girl?"
   ]
  },
  {
   "cell_type": "markdown",
   "metadata": {},
   "source": [
    "# Simple answer\n",
    "WTF is this question, I have no information on this.\n",
    "- it must be $\\frac{1}{2}$"
   ]
  },
  {
   "cell_type": "markdown",
   "metadata": {},
   "source": [
    "# Wicked answer - For perturbated minds\n",
    "- Well, I know that there are at least one girl out of the two children.\n",
    "- The chances of having two girls knowing that you already have one is $\\frac{2}{3}$, so that must be it !"
   ]
  },
  {
   "cell_type": "markdown",
   "metadata": {},
   "source": [
    "# Explained Answer - with actual maths"
   ]
  },
  {
   "cell_type": "markdown",
   "metadata": {},
   "source": [
    "## Basic answer\n",
    "- What is my universe?\n",
    " - I have two children with equal probability to be a boy or a girl.\n",
    " - Let's say that the first (in terms of my representation) child is the one that's here before my eyes, and the second child is the other.\n",
    " - So, four equiprobable outcomes\n",
    "  - $BB - BG - GB - GG $\n",
    "- What happens when I open the door?\n",
    " - I remove some outcomes, because I have a girl in front of me\n",
    " - My universe is now\n",
    "  - $GB - GG$ - still equiprobable.\n",
    "- Now I want to know what gender is the other child:\n",
    " - it's either a boy or a girl 50-50 chance !"
   ]
  },
  {
   "cell_type": "markdown",
   "metadata": {},
   "source": [
    "## Less basic answer\n",
    "One reserve one might have is that I incorporate false information when I order the children as (the one who open the door, the other). Let's not do that then!\n",
    "One more \"acceptable\" parametrisation can be to order them as (older, younger) - it has nothing to do with who opens the door.\n",
    "- Can't argue that the outcomes are well-defined and equiprobable (you can think otherwise, but that would really be bad faith)! $BB - BG - GB - GG $\n",
    "- So what happens when the girl opens the door ? We need to define what is the new universe:\n",
    "  - $BB$ is not possible\n",
    "  - $BG$ is possible, let's say there are 50-50 chances that the younger or the older opens the door. So this leads to a (post-opening-)outcome of $BGY$ ($Y$ for young), it has a probability half of the \"parent-\"outcome - \n",
    "$$P(BGY)=\\frac{1}{8}$$\n",
    "  - From $GB$, similarly, we build ($O$ for older)\n",
    "$$P(GBO)=\\frac{1}{8}$$\n",
    "  - The event \"GG\" is still untouched\n",
    "$$P(GG)=\\frac{1}{4}$$\n",
    "You may also split it into two equiprobable events as above\n",
    "$$P(GGO)=P(GGY)=\\frac{1}{8}$$\n",
    "- Let's renormalise the new universe\n",
    "$$P(BGY)=\\frac{1}{4}$$\n",
    "$$P(GBO)=\\frac{1}{4}$$\n",
    "$$P(GG)=\\frac{1}{2}$$\n",
    "- Now back to the question - what gender is the other child?\n",
    "$$BGY \\to B$$\n",
    "$$GBO \\to B$$\n",
    "$$GG \\to G$$\n",
    "We are back to square one! It's still 50-50!"
   ]
  },
  {
   "cell_type": "markdown",
   "metadata": {},
   "source": [
    "## Twisted remark\n",
    "In the last explanation, we assumed that the younger and the older have equal chances of opening the door. Actually, you can bias this repartition however you want, you will still find the same answer.\n",
    "It means that you apply a rotation to the coordinates\n",
    "$$(old,young)->(door, room)$$\n",
    "But to compute the result, you apply the rotation, then its inverse so the recult is unchanged."
   ]
  }
 ],
 "metadata": {
  "kernelspec": {
   "display_name": "Python 3",
   "language": "python",
   "name": "python3"
  },
  "language_info": {
   "codemirror_mode": {
    "name": "ipython",
    "version": 3
   },
   "file_extension": ".py",
   "mimetype": "text/x-python",
   "name": "python",
   "nbconvert_exporter": "python",
   "pygments_lexer": "ipython3",
   "version": "3.6.7"
  }
 },
 "nbformat": 4,
 "nbformat_minor": 2
}
